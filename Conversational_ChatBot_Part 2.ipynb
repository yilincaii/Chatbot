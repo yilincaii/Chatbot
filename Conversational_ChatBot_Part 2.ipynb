{
  "nbformat": 4,
  "nbformat_minor": 0,
  "metadata": {
    "colab": {
      "name": "Conversational ChatBot - Part 2.ipynb",
      "provenance": [],
      "collapsed_sections": []
    },
    "kernelspec": {
      "name": "python3",
      "display_name": "Python 3"
    }
  },
  "cells": [
    {
      "cell_type": "markdown",
      "metadata": {
        "id": "THU0C36IbTmd"
      },
      "source": [
        "# Conversational ChatBot - Part 2"
      ]
    },
    {
      "cell_type": "markdown",
      "metadata": {
        "id": "Qk2g-0LkbW8X"
      },
      "source": [
        "# 1. Load Data to Colab"
      ]
    },
    {
      "cell_type": "code",
      "metadata": {
        "id": "dxt3MO1abtmR"
      },
      "source": [
        "import numpy as np\n",
        "import pickle\n",
        "import random\n",
        "import os\n",
        "import yaml\n",
        "import matplotlib.pyplot as plt"
      ],
      "execution_count": 1,
      "outputs": []
    },
    {
      "cell_type": "code",
      "metadata": {
        "id": "TQl88vt8cbRZ"
      },
      "source": [
        "from keras.preprocessing import text, sequence\n",
        "from tensorflow.keras.utils import to_categorical\n",
        "from keras.utils.vis_utils import plot_model\n",
        "from keras.layers import Input, Embedding, LSTM, Dense\n",
        "from keras.models import Model, load_model"
      ],
      "execution_count": 2,
      "outputs": []
    },
    {
      "cell_type": "code",
      "metadata": {
        "id": "13_H6xZGrqKj"
      },
      "source": [
        "import warnings\n",
        "warnings.filterwarnings(\"ignore\")"
      ],
      "execution_count": 3,
      "outputs": []
    },
    {
      "cell_type": "code",
      "metadata": {
        "colab": {
          "base_uri": "https://localhost:8080/"
        },
        "id": "3mGMmVCdbX42",
        "outputId": "095c6f0c-fb29-4fed-c9d4-2c09f8e5b62a"
      },
      "source": [
        "from google.colab import drive\n",
        "drive.mount('/content/drive')"
      ],
      "execution_count": 4,
      "outputs": [
        {
          "output_type": "stream",
          "name": "stdout",
          "text": [
            "Mounted at /content/drive\n"
          ]
        }
      ]
    },
    {
      "cell_type": "code",
      "metadata": {
        "id": "bzDHpqJybX2X"
      },
      "source": [
        "cd /content/drive/MyDrive/chatbot"
      ],
      "execution_count": null,
      "outputs": []
    },
    {
      "cell_type": "code",
      "metadata": {
        "id": "RVxoc5RAbXz_"
      },
      "source": [
        "files = os.listdir('data/')"
      ],
      "execution_count": 6,
      "outputs": []
    },
    {
      "cell_type": "code",
      "metadata": {
        "id": "1Y8kZTsObXxO"
      },
      "source": [
        "categories = list()\n",
        "questions = list()\n",
        "answers_raw = list()\n",
        "\n",
        "for file in files:\n",
        "  docs = yaml.safe_load(open('data/' + file, 'r')) \n",
        "  conversations = docs['conversations']\n",
        "  for cur_con in conversations:\n",
        "    if len(cur_con) > 2:\n",
        "      for ans in cur_con[1: ]:\n",
        "        categories.append(docs['categories'][0])\n",
        "        questions.append(cur_con[0])\n",
        "        answers_raw.append(ans)\n",
        "      #questions.append(cur_con[0])\n",
        "      #answers_raw.append(' '.join(cur_con[1: ]))\n",
        "    elif len(cur_con) == 2:\n",
        "      if type( cur_con[1] ) == str: # Filter out unexpected input format\n",
        "        categories.append(docs['categories'][0])\n",
        "        questions.append(cur_con[0])\n",
        "        answers_raw.append(cur_con[1])"
      ],
      "execution_count": 7,
      "outputs": []
    },
    {
      "cell_type": "markdown",
      "metadata": {
        "id": "b5jPykzCb6gs"
      },
      "source": [
        "# 2. Data Preprocessing"
      ]
    },
    {
      "cell_type": "code",
      "metadata": {
        "id": "eW9NpqICbGoN"
      },
      "source": [
        "START_TAG = 'starttag'\n",
        "END_TAG = 'endtag'"
      ],
      "execution_count": 8,
      "outputs": []
    },
    {
      "cell_type": "code",
      "metadata": {
        "id": "TkqQxFEQcWAk"
      },
      "source": [
        "answers = list()\n",
        "for i in range(len(answers_raw)) :\n",
        "    answers.append(START_TAG + ' ' + answers_raw[i] + ' ' + END_TAG)"
      ],
      "execution_count": 9,
      "outputs": []
    },
    {
      "cell_type": "code",
      "metadata": {
        "id": "ywhzOekEcAWt"
      },
      "source": [
        "tokenizer = text.Tokenizer() \n",
        "tokenizer.fit_on_texts(questions + answers)"
      ],
      "execution_count": 10,
      "outputs": []
    },
    {
      "cell_type": "code",
      "metadata": {
        "id": "mHfrBPpDlEkB"
      },
      "source": [
        "# Construct reverse word index for model inference\n",
        "reverse_tokenizer_word_index = {v: k for k, v in tokenizer.word_index.items()}"
      ],
      "execution_count": 11,
      "outputs": []
    },
    {
      "cell_type": "code",
      "metadata": {
        "id": "u8HJAT-QcC3O"
      },
      "source": [
        "# 在这里把size加1的原因是: 我们在后续做padding的时候, 会把empty word作为一个单独的情况处理，即index0\n",
        "vocab_with_padding_size = len(tokenizer.word_index) + 1"
      ],
      "execution_count": 12,
      "outputs": []
    },
    {
      "cell_type": "markdown",
      "metadata": {
        "id": "czk4UCLTdJfG"
      },
      "source": [
        "2.1. 利用questions构造encoder的输入数据"
      ]
    },
    {
      "cell_type": "code",
      "metadata": {
        "id": "0F8Mh9uhcsH6"
      },
      "source": [
        "# encoder_input_data\n",
        "tokenized_questions = tokenizer.texts_to_sequences(questions)\n",
        "maxlen_questions = max([len(question) for question in tokenized_questions])"
      ],
      "execution_count": 13,
      "outputs": []
    },
    {
      "cell_type": "code",
      "metadata": {
        "colab": {
          "base_uri": "https://localhost:8080/"
        },
        "id": "bvLS_RYNdiMe",
        "outputId": "45adaed2-f415-4492-f12c-14337ac50f4f"
      },
      "source": [
        "padded_questions = sequence.pad_sequences(tokenized_questions , maxlen=maxlen_questions , padding='post')\n",
        "encoder_input_data = np.array(padded_questions)\n",
        "print(\"encoder_input_data: \", encoder_input_data.shape, \". max length is: \", maxlen_questions)"
      ],
      "execution_count": 14,
      "outputs": [
        {
          "output_type": "stream",
          "name": "stdout",
          "text": [
            "encoder_input_data:  (870, 22) . max length is:  22\n"
          ]
        }
      ]
    },
    {
      "cell_type": "markdown",
      "metadata": {
        "id": "HwqmF7s5d7hR"
      },
      "source": [
        "2.2. 利用answers数据构造decoder的输入数据"
      ]
    },
    {
      "cell_type": "code",
      "metadata": {
        "id": "hX94DX4nd0c1"
      },
      "source": [
        "# decoder_input_data\n",
        "tokenized_answers = tokenizer.texts_to_sequences(answers)\n",
        "maxlen_answers = max([len(answer) for answer in tokenized_answers])"
      ],
      "execution_count": 15,
      "outputs": []
    },
    {
      "cell_type": "code",
      "metadata": {
        "colab": {
          "base_uri": "https://localhost:8080/"
        },
        "id": "5yvLtL0aeBwI",
        "outputId": "b2d4c200-c8b7-4b63-a979-e759f53b5a08"
      },
      "source": [
        "padded_answers = sequence.pad_sequences(tokenized_answers, maxlen=maxlen_answers, padding='post')\n",
        "decoder_input_data = np.array(padded_answers)\n",
        "print(\"decoder_input_data: \", decoder_input_data.shape ,\". max length is: \", maxlen_answers)"
      ],
      "execution_count": 16,
      "outputs": [
        {
          "output_type": "stream",
          "name": "stdout",
          "text": [
            "decoder_input_data:  (870, 60) . max length is:  60\n"
          ]
        }
      ]
    },
    {
      "cell_type": "markdown",
      "metadata": {
        "id": "vFxkDQrBeaSj"
      },
      "source": [
        "2.3. 利用answers数据构造decoder的输出数据"
      ]
    },
    {
      "cell_type": "code",
      "metadata": {
        "id": "TVPbYstqeVuQ"
      },
      "source": [
        "# decoder_output_data 它的构造方法是：把answers句子的第一个单词删掉，得到一个新句子。\n",
        "tokenized_answers = tokenizer.texts_to_sequences(answers)\n",
        "for i in range(len(tokenized_answers)) :\n",
        "    tokenized_answers[i] = tokenized_answers[i][1:]\n",
        "padded_answers = sequence.pad_sequences( tokenized_answers , maxlen=maxlen_answers , padding='post' )"
      ],
      "execution_count": 17,
      "outputs": []
    },
    {
      "cell_type": "code",
      "metadata": {
        "colab": {
          "base_uri": "https://localhost:8080/"
        },
        "id": "O1SOezM3ennn",
        "outputId": "e6c7b4a3-92cc-45aa-bdc8-2138a6ff7f5a"
      },
      "source": [
        "# convert decoder output to categorical format\n",
        "onehot_answers = to_categorical( padded_answers , vocab_with_padding_size) \n",
        "decoder_output_data = np.array(onehot_answers)\n",
        "print(\"decoder_output_data: \", decoder_output_data.shape)"
      ],
      "execution_count": 18,
      "outputs": [
        {
          "output_type": "stream",
          "name": "stdout",
          "text": [
            "decoder_output_data:  (870, 60, 2018)\n"
          ]
        }
      ]
    },
    {
      "cell_type": "markdown",
      "metadata": {
        "id": "km_29k-rgz6G"
      },
      "source": [
        "#3. Build Seq2Seq Model"
      ]
    },
    {
      "cell_type": "code",
      "metadata": {
        "id": "Yf094iD5kVJL"
      },
      "source": [
        "EMBEDDING_DIM = 200"
      ],
      "execution_count": 19,
      "outputs": []
    },
    {
      "cell_type": "code",
      "metadata": {
        "id": "thnYIGs2gu3u"
      },
      "source": [
        "encoder_inputs = Input(shape=(maxlen_questions,))\n",
        "encoder_embedding = Embedding(input_dim=vocab_with_padding_size, output_dim=EMBEDDING_DIM, mask_zero=True)(encoder_inputs) \n",
        "encoder_lstm = LSTM(units=EMBEDDING_DIM, return_state=True)\n",
        "_, state_h, state_c = encoder_lstm(encoder_embedding)\n",
        "encoder_states = [state_h , state_c]"
      ],
      "execution_count": 20,
      "outputs": []
    },
    {
      "cell_type": "code",
      "metadata": {
        "id": "cghHvAY4hiHv"
      },
      "source": [
        "decoder_inputs = Input(shape=(maxlen_answers, ))\n",
        "decoder_embedding = Embedding(input_dim=vocab_with_padding_size, output_dim=EMBEDDING_DIM, mask_zero=True)(decoder_inputs)\n",
        "decoder_lstm = LSTM(units=EMBEDDING_DIM, return_state=True , return_sequences=True)\n",
        "decoder_outputs, _ ,_ = decoder_lstm(decoder_embedding, initial_state=encoder_states)"
      ],
      "execution_count": 21,
      "outputs": []
    },
    {
      "cell_type": "code",
      "metadata": {
        "id": "fugLJ31rki6A"
      },
      "source": [
        "decoder_dense = Dense(units=vocab_with_padding_size, activation='softmax')\n",
        "dense_output = decoder_dense(decoder_outputs)"
      ],
      "execution_count": 22,
      "outputs": []
    },
    {
      "cell_type": "code",
      "metadata": {
        "id": "cFWBULkuiY-y"
      },
      "source": [
        "model = Model([encoder_inputs, decoder_inputs], dense_output)\n",
        "model.compile(optimizer='adam', loss='categorical_crossentropy')"
      ],
      "execution_count": 23,
      "outputs": []
    },
    {
      "cell_type": "code",
      "metadata": {
        "colab": {
          "base_uri": "https://localhost:8080/"
        },
        "id": "v3bGDBc-ik4p",
        "outputId": "038ff3bf-6833-4fc4-d875-3095b904785b"
      },
      "source": [
        "model.summary()"
      ],
      "execution_count": 24,
      "outputs": [
        {
          "output_type": "stream",
          "name": "stdout",
          "text": [
            "Model: \"model\"\n",
            "__________________________________________________________________________________________________\n",
            " Layer (type)                   Output Shape         Param #     Connected to                     \n",
            "==================================================================================================\n",
            " input_1 (InputLayer)           [(None, 22)]         0           []                               \n",
            "                                                                                                  \n",
            " input_2 (InputLayer)           [(None, 60)]         0           []                               \n",
            "                                                                                                  \n",
            " embedding (Embedding)          (None, 22, 200)      403600      ['input_1[0][0]']                \n",
            "                                                                                                  \n",
            " embedding_1 (Embedding)        (None, 60, 200)      403600      ['input_2[0][0]']                \n",
            "                                                                                                  \n",
            " lstm (LSTM)                    [(None, 200),        320800      ['embedding[0][0]']              \n",
            "                                 (None, 200),                                                     \n",
            "                                 (None, 200)]                                                     \n",
            "                                                                                                  \n",
            " lstm_1 (LSTM)                  [(None, 60, 200),    320800      ['embedding_1[0][0]',            \n",
            "                                 (None, 200),                     'lstm[0][1]',                   \n",
            "                                 (None, 200)]                     'lstm[0][2]']                   \n",
            "                                                                                                  \n",
            " dense (Dense)                  (None, 60, 2018)     405618      ['lstm_1[0][0]']                 \n",
            "                                                                                                  \n",
            "==================================================================================================\n",
            "Total params: 1,854,418\n",
            "Trainable params: 1,854,418\n",
            "Non-trainable params: 0\n",
            "__________________________________________________________________________________________________\n"
          ]
        }
      ]
    },
    {
      "cell_type": "code",
      "metadata": {
        "colab": {
          "base_uri": "https://localhost:8080/",
          "height": 466
        },
        "id": "3hSiWiicjA6X",
        "outputId": "993c2429-8361-4d16-b0f4-02bf1b8bf01c"
      },
      "source": [
        "plot_model(model)"
      ],
      "execution_count": 25,
      "outputs": [
        {
          "output_type": "execute_result",
          "data": {
            "text/plain": [
              "<IPython.core.display.Image object>"
            ],
            "image/png": "[encoded data removed]"
          },
          "metadata": {},
          "execution_count": 25
        }
      ]
    },
    {
      "cell_type": "code",
      "metadata": {
        "colab": {
          "base_uri": "https://localhost:8080/"
        },
        "id": "SWwrlHDrjCca",
        "outputId": "13002d5a-c94e-4f0f-d903-6c673c82866c"
      },
      "source": [
        "# 在程序开发过程中，为了提高效率，我们可以在这里适当减小epochs取值。若设置epochs=300，则需用约46mins完成该参数更新过程.\n",
        "%time history = model.fit([encoder_input_data , decoder_input_data], decoder_output_data, batch_size=50, epochs=300 ) # 为了加速程序运行，可以把参数改成 epochs=10"
      ],
      "execution_count": null,
      "outputs": [
        {
          "output_type": "stream",
          "text": [
            "Epoch 1/300\n",
            "18/18 [==============================] - 16s 502ms/step - loss: 1.3088\n",
            "Epoch 2/300\n",
            "18/18 [==============================] - 9s 500ms/step - loss: 1.0804\n",
            "Epoch 3/300\n",
            "18/18 [==============================] - 9s 501ms/step - loss: 1.0348\n",
            "Epoch 4/300\n",
            "18/18 [==============================] - 9s 514ms/step - loss: 0.9624\n",
            "Epoch 5/300\n",
            "18/18 [==============================] - 9s 503ms/step - loss: 0.9686\n",
            "Epoch 6/300\n",
            "18/18 [==============================] - 9s 498ms/step - loss: 0.9140\n",
            "Epoch 7/300\n",
            "18/18 [==============================] - 9s 501ms/step - loss: 0.8797\n",
            "Epoch 8/300\n",
            "18/18 [==============================] - 9s 503ms/step - loss: 0.9153\n",
            "Epoch 9/300\n",
            "18/18 [==============================] - 9s 507ms/step - loss: 0.8592\n",
            "Epoch 10/300\n",
            "18/18 [==============================] - 9s 504ms/step - loss: 0.8994\n",
            "Epoch 11/300\n",
            "18/18 [==============================] - 9s 505ms/step - loss: 0.8297\n",
            "Epoch 12/300\n",
            "18/18 [==============================] - 9s 505ms/step - loss: 0.8522\n",
            "Epoch 13/300\n",
            "18/18 [==============================] - 9s 502ms/step - loss: 0.8323\n",
            "Epoch 14/300\n",
            "18/18 [==============================] - 9s 503ms/step - loss: 0.8005\n",
            "Epoch 15/300\n",
            "18/18 [==============================] - 9s 503ms/step - loss: 0.7902\n",
            "Epoch 16/300\n",
            "18/18 [==============================] - 9s 501ms/step - loss: 0.8057\n",
            "Epoch 17/300\n",
            "18/18 [==============================] - 9s 508ms/step - loss: 0.7897\n",
            "Epoch 18/300\n",
            "18/18 [==============================] - 9s 512ms/step - loss: 0.7643\n",
            "Epoch 19/300\n",
            "18/18 [==============================] - 9s 506ms/step - loss: 0.7607\n",
            "Epoch 20/300\n",
            "18/18 [==============================] - 9s 504ms/step - loss: 0.7325\n",
            "Epoch 21/300\n",
            "18/18 [==============================] - 9s 504ms/step - loss: 0.7704\n",
            "Epoch 22/300\n",
            "18/18 [==============================] - 9s 510ms/step - loss: 0.7743\n",
            "Epoch 23/300\n",
            "18/18 [==============================] - 9s 510ms/step - loss: 0.7166\n",
            "Epoch 24/300\n",
            "18/18 [==============================] - 9s 511ms/step - loss: 0.7044\n",
            "Epoch 25/300\n",
            "18/18 [==============================] - 9s 504ms/step - loss: 0.7375\n",
            "Epoch 26/300\n",
            "18/18 [==============================] - 9s 503ms/step - loss: 0.6980\n",
            "Epoch 27/300\n",
            "18/18 [==============================] - 9s 506ms/step - loss: 0.6833\n",
            "Epoch 28/300\n",
            "18/18 [==============================] - 9s 499ms/step - loss: 0.6720\n",
            "Epoch 29/300\n",
            "18/18 [==============================] - 9s 505ms/step - loss: 0.6466\n",
            "Epoch 30/300\n",
            "18/18 [==============================] - 9s 507ms/step - loss: 0.6706\n",
            "Epoch 31/300\n",
            "18/18 [==============================] - 9s 505ms/step - loss: 0.6392\n",
            "Epoch 32/300\n",
            "18/18 [==============================] - 9s 508ms/step - loss: 0.6617\n",
            "Epoch 33/300\n",
            "18/18 [==============================] - 9s 504ms/step - loss: 0.6076\n",
            "Epoch 34/300\n",
            "18/18 [==============================] - 9s 499ms/step - loss: 0.6306\n",
            "Epoch 35/300\n",
            "18/18 [==============================] - 9s 499ms/step - loss: 0.5945\n",
            "Epoch 36/300\n",
            "18/18 [==============================] - 9s 508ms/step - loss: 0.6207\n",
            "Epoch 37/300\n",
            "18/18 [==============================] - 9s 508ms/step - loss: 0.5887\n",
            "Epoch 38/300\n",
            "18/18 [==============================] - 9s 507ms/step - loss: 0.6003\n",
            "Epoch 39/300\n",
            "18/18 [==============================] - 9s 500ms/step - loss: 0.6073\n",
            "Epoch 40/300\n",
            "18/18 [==============================] - 9s 502ms/step - loss: 0.5558\n",
            "Epoch 41/300\n",
            "18/18 [==============================] - 9s 504ms/step - loss: 0.5503\n",
            "Epoch 42/300\n",
            "18/18 [==============================] - 9s 507ms/step - loss: 0.5281\n",
            "Epoch 43/300\n",
            "18/18 [==============================] - 9s 502ms/step - loss: 0.5389\n",
            "Epoch 44/300\n",
            "18/18 [==============================] - 9s 501ms/step - loss: 0.5207\n",
            "Epoch 45/300\n",
            "18/18 [==============================] - 9s 506ms/step - loss: 0.5240\n",
            "Epoch 46/300\n",
            "18/18 [==============================] - 9s 501ms/step - loss: 0.5215\n",
            "Epoch 47/300\n",
            "18/18 [==============================] - 9s 500ms/step - loss: 0.5223\n",
            "Epoch 48/300\n",
            "18/18 [==============================] - 9s 501ms/step - loss: 0.4953\n",
            "Epoch 49/300\n",
            "18/18 [==============================] - 9s 504ms/step - loss: 0.4839\n",
            "Epoch 50/300\n",
            "18/18 [==============================] - 9s 505ms/step - loss: 0.4719\n",
            "Epoch 51/300\n",
            "18/18 [==============================] - 9s 507ms/step - loss: 0.4704\n",
            "Epoch 52/300\n",
            "18/18 [==============================] - 9s 507ms/step - loss: 0.4719\n",
            "Epoch 53/300\n",
            "18/18 [==============================] - 9s 504ms/step - loss: 0.4772\n",
            "Epoch 54/300\n",
            "18/18 [==============================] - 9s 505ms/step - loss: 0.4563\n",
            "Epoch 55/300\n",
            "18/18 [==============================] - 9s 503ms/step - loss: 0.4400\n",
            "Epoch 56/300\n",
            "18/18 [==============================] - 9s 502ms/step - loss: 0.4282\n",
            "Epoch 57/300\n",
            "18/18 [==============================] - 9s 514ms/step - loss: 0.4310\n",
            "Epoch 58/300\n",
            "18/18 [==============================] - 9s 515ms/step - loss: 0.4204\n",
            "Epoch 59/300\n",
            "18/18 [==============================] - 9s 503ms/step - loss: 0.4454\n",
            "Epoch 60/300\n",
            "18/18 [==============================] - 9s 502ms/step - loss: 0.3964\n",
            "Epoch 61/300\n",
            "18/18 [==============================] - 9s 502ms/step - loss: 0.4113\n",
            "Epoch 62/300\n",
            "18/18 [==============================] - 9s 503ms/step - loss: 0.4012\n",
            "Epoch 63/300\n",
            "18/18 [==============================] - 9s 504ms/step - loss: 0.4010\n",
            "Epoch 64/300\n",
            "18/18 [==============================] - 9s 502ms/step - loss: 0.3804\n",
            "Epoch 65/300\n",
            "18/18 [==============================] - 9s 506ms/step - loss: 0.3665\n",
            "Epoch 66/300\n",
            "18/18 [==============================] - 9s 505ms/step - loss: 0.3694\n",
            "Epoch 67/300\n",
            "18/18 [==============================] - 9s 503ms/step - loss: 0.3695\n",
            "Epoch 68/300\n",
            "18/18 [==============================] - 9s 500ms/step - loss: 0.3647\n",
            "Epoch 69/300\n",
            "18/18 [==============================] - 9s 502ms/step - loss: 0.3469\n",
            "Epoch 70/300\n",
            "18/18 [==============================] - 9s 507ms/step - loss: 0.3560\n",
            "Epoch 71/300\n",
            "18/18 [==============================] - 9s 524ms/step - loss: 0.3463\n",
            "Epoch 72/300\n",
            "18/18 [==============================] - 9s 506ms/step - loss: 0.3107\n",
            "Epoch 73/300\n",
            "18/18 [==============================] - 9s 501ms/step - loss: 0.3196\n",
            "Epoch 74/300\n",
            "18/18 [==============================] - 9s 501ms/step - loss: 0.3151\n",
            "Epoch 75/300\n",
            "18/18 [==============================] - 9s 505ms/step - loss: 0.3133\n",
            "Epoch 76/300\n",
            "18/18 [==============================] - 9s 505ms/step - loss: 0.2982\n",
            "Epoch 77/300\n",
            "18/18 [==============================] - 9s 505ms/step - loss: 0.2993\n",
            "Epoch 78/300\n",
            "18/18 [==============================] - 9s 502ms/step - loss: 0.2851\n",
            "Epoch 79/300\n",
            "18/18 [==============================] - 9s 502ms/step - loss: 0.2804\n",
            "Epoch 80/300\n",
            "18/18 [==============================] - 9s 503ms/step - loss: 0.2812\n",
            "Epoch 81/300\n",
            "18/18 [==============================] - 9s 501ms/step - loss: 0.2748\n",
            "Epoch 82/300\n",
            "18/18 [==============================] - 9s 498ms/step - loss: 0.2683\n",
            "Epoch 83/300\n",
            "18/18 [==============================] - 9s 504ms/step - loss: 0.2660\n",
            "Epoch 84/300\n",
            "18/18 [==============================] - 9s 502ms/step - loss: 0.2563\n",
            "Epoch 85/300\n",
            "18/18 [==============================] - 9s 503ms/step - loss: 0.2582\n",
            "Epoch 86/300\n",
            "18/18 [==============================] - 9s 501ms/step - loss: 0.2397\n",
            "Epoch 87/300\n",
            "18/18 [==============================] - 9s 500ms/step - loss: 0.2392\n",
            "Epoch 88/300\n",
            "18/18 [==============================] - 9s 500ms/step - loss: 0.2278\n",
            "Epoch 89/300\n",
            "18/18 [==============================] - 9s 499ms/step - loss: 0.2312\n",
            "Epoch 90/300\n",
            "18/18 [==============================] - 9s 503ms/step - loss: 0.2292\n",
            "Epoch 91/300\n",
            "18/18 [==============================] - 9s 505ms/step - loss: 0.2238\n",
            "Epoch 92/300\n",
            "18/18 [==============================] - 9s 508ms/step - loss: 0.2154\n",
            "Epoch 93/300\n",
            "18/18 [==============================] - 9s 503ms/step - loss: 0.2178\n",
            "Epoch 94/300\n",
            "18/18 [==============================] - 9s 506ms/step - loss: 0.2115\n",
            "Epoch 95/300\n",
            "18/18 [==============================] - 9s 501ms/step - loss: 0.2006\n",
            "Epoch 96/300\n",
            "18/18 [==============================] - 9s 501ms/step - loss: 0.2001\n",
            "Epoch 97/300\n",
            "18/18 [==============================] - 9s 502ms/step - loss: 0.1982\n",
            "Epoch 98/300\n",
            "18/18 [==============================] - 9s 501ms/step - loss: 0.1978\n",
            "Epoch 99/300\n",
            "18/18 [==============================] - 9s 500ms/step - loss: 0.1853\n",
            "Epoch 100/300\n",
            "18/18 [==============================] - 9s 504ms/step - loss: 0.1781\n",
            "Epoch 101/300\n",
            "18/18 [==============================] - 9s 504ms/step - loss: 0.1925\n",
            "Epoch 102/300\n",
            "18/18 [==============================] - 9s 497ms/step - loss: 0.1764\n",
            "Epoch 103/300\n",
            "18/18 [==============================] - 9s 501ms/step - loss: 0.1835\n",
            "Epoch 104/300\n",
            "18/18 [==============================] - 9s 501ms/step - loss: 0.1733\n",
            "Epoch 105/300\n",
            "18/18 [==============================] - 9s 511ms/step - loss: 0.1800\n",
            "Epoch 106/300\n",
            "18/18 [==============================] - 9s 507ms/step - loss: 0.1599\n",
            "Epoch 107/300\n",
            "18/18 [==============================] - 9s 501ms/step - loss: 0.1652\n",
            "Epoch 108/300\n",
            "18/18 [==============================] - 9s 499ms/step - loss: 0.1576\n",
            "Epoch 109/300\n",
            "18/18 [==============================] - 9s 500ms/step - loss: 0.1516\n",
            "Epoch 110/300\n",
            "18/18 [==============================] - 9s 503ms/step - loss: 0.1451\n",
            "Epoch 111/300\n",
            "18/18 [==============================] - 9s 498ms/step - loss: 0.1487\n",
            "Epoch 112/300\n",
            "18/18 [==============================] - 9s 503ms/step - loss: 0.1475\n",
            "Epoch 113/300\n",
            "18/18 [==============================] - 9s 499ms/step - loss: 0.1421\n",
            "Epoch 114/300\n",
            "18/18 [==============================] - 9s 500ms/step - loss: 0.1410\n",
            "Epoch 115/300\n",
            "18/18 [==============================] - 9s 500ms/step - loss: 0.1399\n",
            "Epoch 116/300\n",
            "18/18 [==============================] - 9s 502ms/step - loss: 0.1333\n",
            "Epoch 117/300\n",
            "18/18 [==============================] - 9s 502ms/step - loss: 0.1271\n",
            "Epoch 118/300\n",
            "18/18 [==============================] - 9s 501ms/step - loss: 0.1323\n",
            "Epoch 119/300\n",
            "18/18 [==============================] - 9s 501ms/step - loss: 0.1219\n",
            "Epoch 120/300\n",
            "18/18 [==============================] - 9s 499ms/step - loss: 0.1242\n",
            "Epoch 121/300\n",
            "18/18 [==============================] - 9s 499ms/step - loss: 0.1225\n",
            "Epoch 122/300\n",
            "18/18 [==============================] - 9s 500ms/step - loss: 0.1200\n",
            "Epoch 123/300\n",
            "18/18 [==============================] - 9s 503ms/step - loss: 0.1171\n",
            "Epoch 124/300\n",
            "18/18 [==============================] - 9s 495ms/step - loss: 0.1156\n",
            "Epoch 125/300\n",
            "18/18 [==============================] - 9s 502ms/step - loss: 0.1151\n",
            "Epoch 126/300\n",
            "18/18 [==============================] - 9s 510ms/step - loss: 0.1102\n",
            "Epoch 127/300\n",
            "18/18 [==============================] - 9s 504ms/step - loss: 0.1081\n",
            "Epoch 128/300\n",
            "18/18 [==============================] - 9s 499ms/step - loss: 0.1047\n",
            "Epoch 129/300\n",
            "18/18 [==============================] - 9s 504ms/step - loss: 0.1097\n",
            "Epoch 130/300\n",
            "18/18 [==============================] - 9s 505ms/step - loss: 0.1044\n",
            "Epoch 131/300\n",
            "18/18 [==============================] - 9s 504ms/step - loss: 0.0981\n",
            "Epoch 132/300\n",
            "18/18 [==============================] - 9s 503ms/step - loss: 0.0952\n",
            "Epoch 133/300\n",
            "18/18 [==============================] - 9s 508ms/step - loss: 0.0988\n",
            "Epoch 134/300\n",
            "18/18 [==============================] - 9s 499ms/step - loss: 0.0997\n",
            "Epoch 135/300\n",
            "18/18 [==============================] - 9s 500ms/step - loss: 0.0944\n",
            "Epoch 136/300\n",
            "18/18 [==============================] - 9s 502ms/step - loss: 0.0958\n",
            "Epoch 137/300\n",
            "18/18 [==============================] - 9s 502ms/step - loss: 0.0915\n",
            "Epoch 138/300\n",
            "18/18 [==============================] - 9s 503ms/step - loss: 0.0909\n",
            "Epoch 139/300\n",
            "18/18 [==============================] - 9s 511ms/step - loss: 0.0864\n",
            "Epoch 140/300\n",
            "18/18 [==============================] - 9s 500ms/step - loss: 0.0856\n",
            "Epoch 141/300\n",
            "18/18 [==============================] - 9s 501ms/step - loss: 0.0862\n",
            "Epoch 142/300\n",
            "18/18 [==============================] - 9s 500ms/step - loss: 0.0811\n",
            "Epoch 143/300\n",
            "18/18 [==============================] - 9s 505ms/step - loss: 0.0832\n",
            "Epoch 144/300\n",
            "18/18 [==============================] - 9s 502ms/step - loss: 0.0799\n",
            "Epoch 145/300\n",
            "18/18 [==============================] - 9s 501ms/step - loss: 0.0791\n",
            "Epoch 146/300\n",
            "18/18 [==============================] - 9s 502ms/step - loss: 0.0767\n",
            "Epoch 147/300\n",
            "18/18 [==============================] - 9s 502ms/step - loss: 0.0738\n",
            "Epoch 148/300\n",
            "18/18 [==============================] - 9s 501ms/step - loss: 0.0770\n",
            "Epoch 149/300\n",
            "18/18 [==============================] - 9s 505ms/step - loss: 0.0739\n",
            "Epoch 150/300\n",
            "18/18 [==============================] - 9s 505ms/step - loss: 0.0681\n",
            "Epoch 151/300\n",
            "18/18 [==============================] - 9s 502ms/step - loss: 0.0687\n",
            "Epoch 152/300\n",
            "18/18 [==============================] - 9s 502ms/step - loss: 0.0705\n",
            "Epoch 153/300\n",
            "18/18 [==============================] - 9s 500ms/step - loss: 0.0696\n",
            "Epoch 154/300\n",
            "18/18 [==============================] - 9s 497ms/step - loss: 0.0664\n",
            "Epoch 155/300\n",
            "18/18 [==============================] - 9s 500ms/step - loss: 0.0650\n",
            "Epoch 156/300\n",
            "18/18 [==============================] - 9s 504ms/step - loss: 0.0677\n",
            "Epoch 157/300\n",
            "18/18 [==============================] - 9s 501ms/step - loss: 0.0644\n",
            "Epoch 158/300\n",
            "18/18 [==============================] - 9s 501ms/step - loss: 0.0613\n",
            "Epoch 159/300\n",
            "18/18 [==============================] - 9s 501ms/step - loss: 0.0624\n",
            "Epoch 160/300\n",
            "18/18 [==============================] - 9s 507ms/step - loss: 0.0597\n",
            "Epoch 161/300\n",
            "18/18 [==============================] - 9s 509ms/step - loss: 0.0635\n",
            "Epoch 162/300\n",
            "18/18 [==============================] - 9s 504ms/step - loss: 0.0623\n",
            "Epoch 163/300\n",
            "18/18 [==============================] - 9s 505ms/step - loss: 0.0700\n",
            "Epoch 164/300\n",
            "18/18 [==============================] - 9s 504ms/step - loss: 0.0673\n",
            "Epoch 165/300\n",
            "18/18 [==============================] - 9s 499ms/step - loss: 0.0599\n",
            "Epoch 166/300\n",
            "18/18 [==============================] - 9s 502ms/step - loss: 0.0620\n",
            "Epoch 167/300\n",
            "18/18 [==============================] - 9s 499ms/step - loss: 0.0582\n",
            "Epoch 168/300\n",
            "18/18 [==============================] - 9s 500ms/step - loss: 0.0543\n",
            "Epoch 169/300\n",
            "18/18 [==============================] - 9s 502ms/step - loss: 0.0552\n",
            "Epoch 170/300\n",
            "18/18 [==============================] - 9s 504ms/step - loss: 0.0538\n",
            "Epoch 171/300\n",
            "18/18 [==============================] - 9s 505ms/step - loss: 0.0546\n",
            "Epoch 172/300\n",
            "18/18 [==============================] - 9s 505ms/step - loss: 0.0526\n",
            "Epoch 173/300\n",
            "18/18 [==============================] - 9s 506ms/step - loss: 0.0504\n",
            "Epoch 174/300\n",
            "18/18 [==============================] - 9s 497ms/step - loss: 0.0492\n",
            "Epoch 175/300\n",
            "18/18 [==============================] - 9s 500ms/step - loss: 0.0506\n",
            "Epoch 176/300\n",
            "18/18 [==============================] - 9s 501ms/step - loss: 0.0495\n",
            "Epoch 177/300\n",
            "18/18 [==============================] - 9s 500ms/step - loss: 0.0488\n",
            "Epoch 178/300\n",
            "18/18 [==============================] - 9s 502ms/step - loss: 0.0479\n",
            "Epoch 179/300\n",
            "18/18 [==============================] - 9s 496ms/step - loss: 0.0482\n",
            "Epoch 180/300\n",
            "18/18 [==============================] - 9s 502ms/step - loss: 0.0468\n",
            "Epoch 181/300\n",
            "18/18 [==============================] - 9s 498ms/step - loss: 0.0455\n",
            "Epoch 182/300\n",
            "18/18 [==============================] - 9s 505ms/step - loss: 0.0452\n",
            "Epoch 183/300\n",
            "18/18 [==============================] - 9s 506ms/step - loss: 0.0451\n",
            "Epoch 184/300\n",
            "18/18 [==============================] - 9s 502ms/step - loss: 0.0434\n",
            "Epoch 185/300\n",
            "18/18 [==============================] - 9s 496ms/step - loss: 0.0438\n",
            "Epoch 186/300\n",
            "18/18 [==============================] - 9s 498ms/step - loss: 0.0451\n",
            "Epoch 187/300\n",
            "18/18 [==============================] - 9s 501ms/step - loss: 0.0442\n",
            "Epoch 188/300\n",
            "18/18 [==============================] - 9s 497ms/step - loss: 0.0430\n",
            "Epoch 189/300\n",
            "18/18 [==============================] - 9s 502ms/step - loss: 0.0414\n",
            "Epoch 190/300\n",
            "18/18 [==============================] - 9s 501ms/step - loss: 0.0411\n",
            "Epoch 191/300\n",
            "18/18 [==============================] - 9s 502ms/step - loss: 0.0408\n",
            "Epoch 192/300\n",
            "18/18 [==============================] - 9s 498ms/step - loss: 0.0431\n",
            "Epoch 193/300\n",
            "18/18 [==============================] - 9s 501ms/step - loss: 0.0411\n",
            "Epoch 194/300\n",
            "18/18 [==============================] - 9s 497ms/step - loss: 0.0424\n",
            "Epoch 195/300\n",
            "18/18 [==============================] - 9s 502ms/step - loss: 0.0410\n",
            "Epoch 196/300\n",
            "18/18 [==============================] - 9s 508ms/step - loss: 0.0392\n",
            "Epoch 197/300\n",
            "18/18 [==============================] - 9s 500ms/step - loss: 0.0383\n",
            "Epoch 198/300\n",
            "18/18 [==============================] - 9s 501ms/step - loss: 0.0404\n",
            "Epoch 199/300\n",
            "18/18 [==============================] - 9s 504ms/step - loss: 0.0385\n",
            "Epoch 200/300\n",
            "18/18 [==============================] - 9s 503ms/step - loss: 0.0371\n",
            "Epoch 201/300\n",
            "18/18 [==============================] - 9s 507ms/step - loss: 0.0383\n",
            "Epoch 202/300\n",
            "18/18 [==============================] - 9s 510ms/step - loss: 0.0370\n",
            "Epoch 203/300\n",
            "18/18 [==============================] - 9s 504ms/step - loss: 0.0371\n",
            "Epoch 204/300\n",
            "18/18 [==============================] - 9s 506ms/step - loss: 0.0370\n",
            "Epoch 205/300\n",
            "18/18 [==============================] - 9s 504ms/step - loss: 0.0369\n",
            "Epoch 206/300\n",
            "18/18 [==============================] - 9s 514ms/step - loss: 0.0359\n",
            "Epoch 207/300\n",
            "18/18 [==============================] - 9s 505ms/step - loss: 0.0358\n",
            "Epoch 208/300\n",
            "18/18 [==============================] - 9s 502ms/step - loss: 0.0356\n",
            "Epoch 209/300\n",
            "18/18 [==============================] - 9s 501ms/step - loss: 0.0349\n",
            "Epoch 210/300\n",
            "18/18 [==============================] - 9s 506ms/step - loss: 0.0354\n",
            "Epoch 211/300\n",
            "18/18 [==============================] - 9s 502ms/step - loss: 0.0342\n",
            "Epoch 212/300\n",
            "18/18 [==============================] - 9s 503ms/step - loss: 0.0354\n",
            "Epoch 213/300\n",
            "18/18 [==============================] - 9s 503ms/step - loss: 0.0346\n",
            "Epoch 214/300\n",
            "18/18 [==============================] - 9s 501ms/step - loss: 0.0355\n",
            "Epoch 215/300\n",
            "18/18 [==============================] - 9s 503ms/step - loss: 0.0324\n",
            "Epoch 216/300\n",
            "18/18 [==============================] - 9s 509ms/step - loss: 0.0330\n",
            "Epoch 217/300\n",
            "18/18 [==============================] - 9s 505ms/step - loss: 0.0338\n",
            "Epoch 218/300\n",
            "18/18 [==============================] - 9s 502ms/step - loss: 0.0317\n",
            "Epoch 219/300\n",
            "18/18 [==============================] - 9s 499ms/step - loss: 0.0324\n",
            "Epoch 220/300\n",
            "18/18 [==============================] - 9s 501ms/step - loss: 0.0331\n",
            "Epoch 221/300\n",
            "18/18 [==============================] - 9s 501ms/step - loss: 0.0326\n",
            "Epoch 222/300\n",
            "18/18 [==============================] - 9s 502ms/step - loss: 0.0329\n",
            "Epoch 223/300\n",
            "18/18 [==============================] - 9s 501ms/step - loss: 0.0325\n",
            "Epoch 224/300\n",
            "18/18 [==============================] - 9s 505ms/step - loss: 0.0322\n",
            "Epoch 225/300\n",
            "18/18 [==============================] - 9s 505ms/step - loss: 0.0320\n",
            "Epoch 226/300\n",
            "18/18 [==============================] - 9s 503ms/step - loss: 0.0314\n",
            "Epoch 227/300\n",
            "18/18 [==============================] - 9s 503ms/step - loss: 0.0307\n",
            "Epoch 228/300\n",
            "18/18 [==============================] - 9s 503ms/step - loss: 0.0305\n",
            "Epoch 229/300\n",
            "18/18 [==============================] - 9s 504ms/step - loss: 0.0310\n",
            "Epoch 230/300\n",
            "18/18 [==============================] - 9s 518ms/step - loss: 0.0302\n",
            "Epoch 231/300\n",
            "18/18 [==============================] - 9s 503ms/step - loss: 0.0297\n",
            "Epoch 232/300\n",
            "18/18 [==============================] - 9s 501ms/step - loss: 0.0293\n",
            "Epoch 233/300\n",
            "18/18 [==============================] - 9s 504ms/step - loss: 0.0299\n",
            "Epoch 234/300\n",
            "18/18 [==============================] - 9s 501ms/step - loss: 0.0290\n",
            "Epoch 235/300\n",
            "18/18 [==============================] - 9s 505ms/step - loss: 0.0290\n",
            "Epoch 236/300\n",
            "18/18 [==============================] - 9s 504ms/step - loss: 0.0289\n",
            "Epoch 237/300\n",
            "18/18 [==============================] - 9s 500ms/step - loss: 0.0292\n",
            "Epoch 238/300\n",
            "18/18 [==============================] - 9s 504ms/step - loss: 0.0296\n",
            "Epoch 239/300\n",
            "18/18 [==============================] - 9s 501ms/step - loss: 0.0285\n",
            "Epoch 240/300\n",
            "18/18 [==============================] - 9s 514ms/step - loss: 0.0284\n",
            "Epoch 241/300\n",
            "18/18 [==============================] - 9s 503ms/step - loss: 0.0288\n",
            "Epoch 242/300\n",
            "18/18 [==============================] - 9s 506ms/step - loss: 0.0288\n",
            "Epoch 243/300\n",
            "18/18 [==============================] - 9s 501ms/step - loss: 0.0285\n",
            "Epoch 244/300\n",
            "18/18 [==============================] - 9s 505ms/step - loss: 0.0280\n",
            "Epoch 245/300\n",
            "18/18 [==============================] - 9s 504ms/step - loss: 0.0275\n",
            "Epoch 246/300\n",
            "18/18 [==============================] - 9s 502ms/step - loss: 0.0277\n",
            "Epoch 247/300\n",
            "18/18 [==============================] - 9s 502ms/step - loss: 0.0285\n",
            "Epoch 248/300\n",
            "18/18 [==============================] - 9s 505ms/step - loss: 0.0281\n",
            "Epoch 249/300\n",
            "18/18 [==============================] - 9s 508ms/step - loss: 0.0270\n",
            "Epoch 250/300\n",
            "18/18 [==============================] - 9s 500ms/step - loss: 0.0273\n",
            "Epoch 251/300\n",
            "18/18 [==============================] - 9s 503ms/step - loss: 0.0281\n",
            "Epoch 252/300\n",
            "18/18 [==============================] - 9s 502ms/step - loss: 0.0271\n",
            "Epoch 253/300\n",
            "18/18 [==============================] - 9s 506ms/step - loss: 0.0275\n",
            "Epoch 254/300\n",
            "18/18 [==============================] - 9s 503ms/step - loss: 0.0276\n",
            "Epoch 255/300\n",
            "18/18 [==============================] - 9s 511ms/step - loss: 0.0271\n",
            "Epoch 256/300\n",
            "18/18 [==============================] - 9s 504ms/step - loss: 0.0274\n",
            "Epoch 257/300\n",
            "18/18 [==============================] - 9s 502ms/step - loss: 0.0266\n",
            "Epoch 258/300\n",
            "18/18 [==============================] - 9s 502ms/step - loss: 0.0268\n",
            "Epoch 259/300\n",
            "18/18 [==============================] - 9s 505ms/step - loss: 0.0263\n",
            "Epoch 260/300\n",
            "18/18 [==============================] - 9s 510ms/step - loss: 0.0271\n",
            "Epoch 261/300\n",
            "18/18 [==============================] - 9s 509ms/step - loss: 0.0261\n",
            "Epoch 262/300\n",
            "18/18 [==============================] - 9s 504ms/step - loss: 0.0254\n",
            "Epoch 263/300\n",
            "18/18 [==============================] - 9s 505ms/step - loss: 0.0273\n",
            "Epoch 264/300\n",
            "18/18 [==============================] - 9s 512ms/step - loss: 0.0261\n",
            "Epoch 265/300\n",
            "18/18 [==============================] - 9s 509ms/step - loss: 0.0257\n",
            "Epoch 266/300\n",
            "18/18 [==============================] - 9s 507ms/step - loss: 0.0266\n",
            "Epoch 267/300\n",
            "18/18 [==============================] - 9s 504ms/step - loss: 0.0251\n",
            "Epoch 268/300\n",
            "18/18 [==============================] - 9s 503ms/step - loss: 0.0255\n",
            "Epoch 269/300\n",
            "18/18 [==============================] - 9s 505ms/step - loss: 0.0249\n",
            "Epoch 270/300\n",
            "18/18 [==============================] - 9s 504ms/step - loss: 0.0257\n",
            "Epoch 271/300\n",
            "18/18 [==============================] - 9s 501ms/step - loss: 0.0261\n",
            "Epoch 272/300\n",
            "18/18 [==============================] - 9s 507ms/step - loss: 0.0253\n",
            "Epoch 273/300\n",
            "18/18 [==============================] - 9s 505ms/step - loss: 0.0257\n",
            "Epoch 274/300\n",
            "18/18 [==============================] - 9s 510ms/step - loss: 0.0254\n",
            "Epoch 275/300\n",
            "18/18 [==============================] - 9s 505ms/step - loss: 0.0246\n",
            "Epoch 276/300\n",
            "18/18 [==============================] - 9s 502ms/step - loss: 0.0251\n",
            "Epoch 277/300\n",
            "18/18 [==============================] - 9s 500ms/step - loss: 0.0249\n",
            "Epoch 278/300\n",
            "18/18 [==============================] - 9s 506ms/step - loss: 0.0247\n",
            "Epoch 279/300\n",
            "18/18 [==============================] - 9s 505ms/step - loss: 0.0244\n",
            "Epoch 280/300\n",
            "18/18 [==============================] - 9s 500ms/step - loss: 0.0240\n",
            "Epoch 281/300\n",
            "18/18 [==============================] - 9s 506ms/step - loss: 0.0257\n",
            "Epoch 282/300\n",
            "18/18 [==============================] - 9s 504ms/step - loss: 0.0244\n",
            "Epoch 283/300\n",
            "18/18 [==============================] - 9s 502ms/step - loss: 0.0248\n",
            "Epoch 284/300\n",
            "18/18 [==============================] - 9s 500ms/step - loss: 0.0243\n",
            "Epoch 285/300\n",
            "18/18 [==============================] - 9s 498ms/step - loss: 0.0245\n",
            "Epoch 286/300\n",
            "18/18 [==============================] - 9s 504ms/step - loss: 0.0240\n",
            "Epoch 287/300\n",
            "18/18 [==============================] - 9s 498ms/step - loss: 0.0242\n",
            "Epoch 288/300\n",
            "18/18 [==============================] - 9s 503ms/step - loss: 0.0238\n",
            "Epoch 289/300\n",
            "18/18 [==============================] - 9s 502ms/step - loss: 0.0243\n",
            "Epoch 290/300\n",
            "18/18 [==============================] - 9s 504ms/step - loss: 0.0244\n",
            "Epoch 291/300\n",
            "18/18 [==============================] - 9s 501ms/step - loss: 0.0243\n",
            "Epoch 292/300\n",
            "18/18 [==============================] - 9s 501ms/step - loss: 0.0247\n",
            "Epoch 293/300\n",
            "18/18 [==============================] - 9s 502ms/step - loss: 0.0240\n",
            "Epoch 294/300\n",
            "18/18 [==============================] - 9s 498ms/step - loss: 0.0234\n",
            "Epoch 295/300\n",
            "18/18 [==============================] - 9s 506ms/step - loss: 0.0236\n",
            "Epoch 296/300\n",
            "18/18 [==============================] - 9s 507ms/step - loss: 0.0242\n",
            "Epoch 297/300\n",
            "18/18 [==============================] - 9s 509ms/step - loss: 0.0237\n",
            "Epoch 298/300\n",
            "18/18 [==============================] - 9s 512ms/step - loss: 0.0247\n",
            "Epoch 299/300\n",
            "18/18 [==============================] - 9s 511ms/step - loss: 0.0238\n",
            "Epoch 300/300\n",
            "18/18 [==============================] - 9s 512ms/step - loss: 0.0246\n",
            "CPU times: user 1h 22min 10s, sys: 2min 45s, total: 1h 24min 56s\n",
            "Wall time: 45min 35s\n"
          ],
          "name": "stdout"
        }
      ]
    },
    {
      "cell_type": "code",
      "metadata": {
        "colab": {
          "base_uri": "https://localhost:8080/",
          "height": 513
        },
        "id": "nlhIejArldra",
        "outputId": "61c20538-b944-4b53-839e-4aad47bb3a62"
      },
      "source": [
        "%matplotlib inline\n",
        "plt.figure(figsize=(8,8))\n",
        "plt.plot(history.history['loss'])\n",
        "plt.title('Cross Entropy Loss')\n",
        "plt.ylabel('Loss')\n",
        "plt.xlabel('Epoch')\n",
        "plt.show()"
      ],
      "execution_count": null,
      "outputs": [
        {
          "output_type": "display_data",
          "data": {
            "image/png": "[encoded data removed]",
            "text/plain": [
              "<Figure size 576x576 with 1 Axes>"
            ]
          },
          "metadata": {
            "tags": [],
            "needs_background": "light"
          }
        }
      ]
    },
    {
      "cell_type": "markdown",
      "metadata": {
        "id": "-CZ9RYmUmH5u"
      },
      "source": [
        "#4. (Optional) Save Model and Related Params for Chatbot GUI Development"
      ]
    },
    {
      "cell_type": "code",
      "metadata": {
        "id": "PaR9O3MYjYpI"
      },
      "source": [
        "model.save('my_seq2seq_model.h5')"
      ],
      "execution_count": null,
      "outputs": []
    },
    {
      "cell_type": "code",
      "metadata": {
        "id": "DzpCus-TB36o"
      },
      "source": [
        "save_params = {}\n",
        "save_params['tokenizer'] = tokenizer\n",
        "save_params['reverse_tokenizer_word_index'] = reverse_tokenizer_word_index\n",
        "save_params['maxlen_questions'] = maxlen_questions\n",
        "save_params['maxlen_answers'] = maxlen_answers\n",
        "save_params['EMBEDDING_DIM'] = EMBEDDING_DIM\n",
        "save_params['START_TAG'] = START_TAG\n",
        "save_params['END_TAG'] = END_TAG"
      ],
      "execution_count": null,
      "outputs": []
    },
    {
      "cell_type": "code",
      "metadata": {
        "id": "FsYvJtWXCJ7h"
      },
      "source": [
        "pickle.dump(save_params, open('my_save_params_seq2seq.pkl','wb'))"
      ],
      "execution_count": null,
      "outputs": []
    },
    {
      "cell_type": "markdown",
      "metadata": {
        "id": "E469dtmmEx88"
      },
      "source": [
        "#5. Load Model and Related Params"
      ]
    },
    {
      "cell_type": "code",
      "metadata": {
        "id": "vI2y0TbeExtx"
      },
      "source": [
        "# Load models\n",
        "classification_model = load_model('classification_model.h5')\n",
        "seq2seq_model = load_model('seq2seq_model.h5')\n",
        "\n",
        "# Load saved parameters\n",
        "save_params = pickle.load(open('save_params_seq2seq.pkl','rb'))\n",
        "save_params_classification = pickle.load(open('save_params_classification.pkl','rb'))"
      ],
      "execution_count": 26,
      "outputs": []
    },
    {
      "cell_type": "code",
      "metadata": {
        "id": "6VweIRSzE1xU"
      },
      "source": [
        "# Load language processing params\n",
        "tokenizer = save_params['tokenizer']\n",
        "reverse_tokenizer_word_index = save_params['reverse_tokenizer_word_index']\n",
        "maxlen_questions = save_params['maxlen_questions']\n",
        "maxlen_answers = save_params['maxlen_answers']\n",
        "EMBEDDING_DIM = save_params['EMBEDDING_DIM']\n",
        "START_TAG = save_params['START_TAG']\n",
        "END_TAG = save_params['END_TAG']\n",
        "categories_list = save_params_classification['categories_list']  \n",
        "class_tokenizer = save_params_classification['tokenizer']\n",
        "\n",
        "# Load seq2seq model params\n",
        "encoder_inputs = seq2seq_model.layers[0].input\n",
        "encoder_states = seq2seq_model.layers[4].output[1:]\n",
        "decoder_inputs = seq2seq_model.layers[1].input\n",
        "decoder_lstm = seq2seq_model.layers[5]\n",
        "decoder_embedding = seq2seq_model.layers[3].output\n",
        "decoder_dense = seq2seq_model.layers[6]"
      ],
      "execution_count": 27,
      "outputs": []
    },
    {
      "cell_type": "markdown",
      "metadata": {
        "id": "hpZz3o89mREk"
      },
      "source": [
        "#6. Model Inference"
      ]
    },
    {
      "cell_type": "code",
      "metadata": {
        "id": "RXz7328Epwe_"
      },
      "source": [
        "encoder_model = Model(encoder_inputs, encoder_states) \n",
        "decoder_state_input_h = Input(shape=(EMBEDDING_DIM ,))\n",
        "decoder_state_input_c = Input(shape=(EMBEDDING_DIM ,))\n",
        "decoder_states_inputs = [decoder_state_input_h, decoder_state_input_c]\n",
        "\n",
        "decoder_outputs, state_h, state_c = decoder_lstm(decoder_embedding , initial_state=decoder_states_inputs)\n",
        "decoder_states = [state_h, state_c]\n",
        "decoder_outputs = decoder_dense(decoder_outputs)\n",
        "decoder_model = Model([decoder_inputs] + decoder_states_inputs, [decoder_outputs] + decoder_states)"
      ],
      "execution_count": 28,
      "outputs": []
    },
    {
      "cell_type": "code",
      "metadata": {
        "colab": {
          "base_uri": "https://localhost:8080/"
        },
        "id": "KjKIFEvFldiS",
        "outputId": "12d54e7e-8211-43a5-c424-517de4928239"
      },
      "source": [
        "for _ in range(6):\n",
        "  # Take and parse input question\n",
        "  q_input = input('Please enter question: ')\n",
        "  tokenized_questions = tokenizer.texts_to_sequences([q_input])\n",
        "  parsed_q_input = sequence.pad_sequences(tokenized_questions , maxlen=maxlen_questions , padding='post')\n",
        "\n",
        "  # Make inference with seq2seq model\n",
        "  states_values = encoder_model.predict(parsed_q_input)\n",
        "  empty_target_seq = np.zeros((1,1))\n",
        "  empty_target_seq[0, 0] = tokenizer.word_index[START_TAG]\n",
        "  decoded_translation = ''\n",
        "  while True :\n",
        "      dec_outputs , h , c = decoder_model.predict([empty_target_seq] + states_values)\n",
        "      sampled_word_index = np.argmax( dec_outputs[0, 0, :] ) \n",
        "      if sampled_word_index in reverse_tokenizer_word_index:\n",
        "          word = reverse_tokenizer_word_index[sampled_word_index]\n",
        "          if word == END_TAG or len(decoded_translation.split()) >= maxlen_answers:\n",
        "            break\n",
        "          else:\n",
        "            decoded_translation += ' {}'.format( word )\n",
        "      empty_target_seq[ 0 , 0 ] = sampled_word_index\n",
        "      states_values = [ h , c ]\n",
        "  print('Techie Chatbot:', decoded_translation)"
      ],
      "execution_count": 29,
      "outputs": [
        {
          "output_type": "stream",
          "name": "stdout",
          "text": [
            "Please enter question: How are you?\n",
            "WARNING:tensorflow:Model was constructed with shape (None, 60) for input KerasTensor(type_spec=TensorSpec(shape=(None, 60), dtype=tf.float32, name='input_8'), name='input_8', description=\"created by layer 'input_8'\"), but it was called on an input with incompatible shape (None, 1).\n",
            "Techie Chatbot:  i am doing well\n",
            "Please enter question: Tell me a joke, please\n",
            "Techie Chatbot:  what do you get when you cross a cat and a purple person\n",
            "Please enter question: What do you eat?\n",
            "Techie Chatbot:  i use electricity to function if that counts\n",
            "Please enter question: Do you eat meat?\n",
            "Techie Chatbot:  no i'm just a piece of software\n",
            "Please enter question: Are you angry?\n",
            "Techie Chatbot:  i have not yet studied how to feel or express anger\n",
            "Please enter question: What is AI?\n",
            "Techie Chatbot:  ai is the field of science which concerns itself with building hardware and software that replicates the functions of the human mind\n"
          ]
        }
      ]
    },
    {
      "cell_type": "markdown",
      "metadata": {
        "id": "8ywxED5Smciy"
      },
      "source": [
        "#7. (Optional) Develop GUI Chatbot on your local machine"
      ]
    },
    {
      "cell_type": "markdown",
      "metadata": {
        "id": "pDQVJtmKmkkJ"
      },
      "source": [
        "使用python GUI工具开发Chatbot图形用户界面(如下图所示)。在[Techie数据科学集训营](https://www.techielearning.com/data-science-class)中，教师会讲解相关`chatbot_GUI.py`代码。"
      ]
    },
    {
      "cell_type": "markdown",
      "metadata": {
        "id": "y-_XgsksOEUh"
      },
      "source": [
        "![techie_chat_bot.png](data:image/png;base64,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)"
      ]
    },
    {
      "cell_type": "code",
      "metadata": {
        "id": "w8Iimjpwm0G0"
      },
      "source": [
        ""
      ],
      "execution_count": null,
      "outputs": []
    }
  ]
}